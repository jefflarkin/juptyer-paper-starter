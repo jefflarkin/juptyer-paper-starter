{
 "cells": [
  {
   "cell_type": "code",
   "execution_count": null,
   "metadata": {},
   "outputs": [],
   "source": [
    "# Dependencies\n",
    "import pandas as pd\n",
    "from IPython.display import display, HTML\n",
    "pd.set_option('display.notebook_repr_html', True)\n",
    "\n",
    "# Expands dataframe to know how to generate a latex table\n",
    "# Adds support for captions and labels\n",
    "def _repr_latex_(self):\n",
    "    retval = \"\\\\begin{center}{%s}\\end{center}\" % self.to_latex(longtable=True)\n",
    "    if ( hasattr(self, 'caption') ):\n",
    "      retval = retval.replace('\\n', '\\n\\\\caption{'+self.caption+'}\\\\\\\\\\n', 1)\n",
    "    if ( hasattr(self, 'label')): \n",
    "      retval = retval.replace('\\\\\\\\\\n', '\\n\\\\label{'+self.label+'}\\\\\\\\\\n', 1)\n",
    "    return retval\n",
    "\n",
    "pd.DataFrame._repr_latex_ = _repr_latex_  # monkey patch pandas DataFrame"
   ]
  },
  {
   "cell_type": "markdown",
   "metadata": {},
   "source": [
    "This is an example for using Jupyter for writing an academic paper using Pandas for graphs and tables. The template file is modified from [this post](https://medium.com/@abhisheksharma09/publication-ready-jupyter-notebooks-bf71e4b676ac). A makefile has been provided to generate a pdf or tex file for final generation. I've also provided simple CSVs with dummy data for the charts.\n",
    "\n",
    "You should edit the latex_metadata section of the notebook metadata (Edit -> Edit Notebook Metadata)."
   ]
  },
  {
   "cell_type": "code",
   "execution_count": null,
   "metadata": {},
   "outputs": [],
   "source": [
    "tab = pd.read_csv('run.csv')\n",
    "tab.sort_values(by=[\"ref:total\"],inplace=True)\n",
    "tab.set_index(\"run\",inplace=True)\n",
    "tab[\"phase1:improvement\"] = tab[\"new:phase1\"]/tab[\"ref:phase1\"]\n",
    "tab[\"phase1:improvement\"] = pd.Series([\"{0:.2f}%\".format(100 - (val * 100)) for val in tab[\"phase1:improvement\"]], index=tab.index)\n",
    "tab[\"phase2:improvement\"] = tab[\"new:phase2\"]/tab[\"ref:phase2\"]\n",
    "tab[\"phase2:improvement\"] = pd.Series([\"{0:.2f}%\".format(100 - (val * 100)) for val in tab[\"phase2:improvement\"]], index=tab.index)\n",
    "\n",
    "phase1 = tab[[\"ref:phase1\",\"new:phase1\",\"phase1:improvement\"]]\n",
    "phase1 = phase1.rename({\"ref:dmc\":\"Reference\",\"new:phase1\":\"New\",\"phase1:improvement\":\"Improvement\"},axis=\"columns\")\n",
    "# Adds latex caption and label\n",
    "phase1.caption = \"Phase 1\"\n",
    "phase1.label = \"tab:phase1table\"\n",
    "# USe display instead of inline so it'll show up in the final paper w/o showing code\n",
    "display(phase1)"
   ]
  },
  {
   "cell_type": "code",
   "execution_count": null,
   "metadata": {},
   "outputs": [],
   "source": [
    "phase2 = tab[[\"ref:phase2\",\"new:phase2\",\"phase2:improvement\"]]\n",
    "phase2 = phase2.rename({\"ref:phase2\":\"Reference\",\"new:phase2\":\"New\",\"phase2:improvement\":\"Improvement\"},axis=\"columns\")\n",
    "phase2.caption = \"Phase 2\"\n",
    "phase2.label = \"tab:phase2table\"\n",
    "display(phase2)"
   ]
  },
  {
   "cell_type": "markdown",
   "metadata": {},
   "source": [
    "You can display code inline:\n",
    "\n",
    "```cpp\n",
    "#include <stdio.h>\n",
    "int main(int argc, char **argv)\n",
    "{\n",
    "  printf(\"Hello, World!\\n\");\n",
    "  return 0;\n",
    "}\n",
    "```\n",
    "\n",
    "And you can embed latex math statements:\n",
    "\n",
    "$e^{i\\pi} + 1 = 0$\n",
    "\n",
    "You will want to look into the citation plugins for jupyter to help w/ generating citations at the end.\n",
    "\n",
    "Below is an example for generating a graph using pandas/matplotlib. You should explicitly display the graph, rather than using inline graphs to improve paper generation."
   ]
  },
  {
   "cell_type": "code",
   "execution_count": null,
   "metadata": {},
   "outputs": [],
   "source": [
    "import matplotlib.pyplot as plt\n",
    "%matplotlib inline\n",
    "plot = phase2[[\"Reference\",\"New\"]].plot.bar()\n",
    "plt.show()"
   ]
  }
 ],
 "metadata": {
  "hide_input": false,
  "kernelspec": {
   "display_name": "Python 3",
   "language": "python",
   "name": "python3"
  },
  "language_info": {
   "codemirror_mode": {
    "name": "ipython",
    "version": 3
   },
   "file_extension": ".py",
   "mimetype": "text/x-python",
   "name": "python",
   "nbconvert_exporter": "python",
   "pygments_lexer": "ipython3",
   "version": "3.7.3"
  },
  "latex_metadata": {
   "affiliation": "Some Company",
   "authors": [
    {
     "name": "Some Author"
    }
   ]
  }
 },
 "nbformat": 4,
 "nbformat_minor": 2
}
